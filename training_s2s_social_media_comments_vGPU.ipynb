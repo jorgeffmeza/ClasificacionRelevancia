{
  "nbformat": 4,
  "nbformat_minor": 0,
  "metadata": {
    "colab": {
      "name": "training_s2s_social_media_comments_vGPU.ipynb",
      "provenance": [],
      "collapsed_sections": []
    },
    "kernelspec": {
      "display_name": "Python 3",
      "name": "python3"
    },
    "accelerator": "GPU"
  },
  "cells": [
    {
      "cell_type": "markdown",
      "metadata": {
        "id": "S46DA1fAzQc_"
      },
      "source": [
        "# **Entrenamiento del modelo S2S con atención para clasificar comentarios de redes sociales sobre eventos educativos**"
      ]
    },
    {
      "cell_type": "code",
      "metadata": {
        "id": "mw4phGPeVWD_",
        "colab": {
          "base_uri": "https://localhost:8080/"
        },
        "outputId": "67f12dc3-d0fe-4c8d-eea6-631135da0595"
      },
      "source": [
        "from google.colab import drive\n",
        "drive.mount('/gdrive', force_remount=True)"
      ],
      "execution_count": null,
      "outputs": [
        {
          "output_type": "stream",
          "name": "stdout",
          "text": [
            "Mounted at /gdrive\n"
          ]
        }
      ]
    },
    {
      "cell_type": "code",
      "metadata": {
        "id": "4Pt2EvgLSyWT"
      },
      "source": [
        "import pickle\n",
        "\n",
        "with open('/gdrive/MyDrive/DSRP/Data/corpus_dc', 'rb') as d:\n",
        "    data_dict = pickle.load(d)\n",
        "    \n",
        "with open('/gdrive/MyDrive/DSRP/Data/word_tokenizer', 'rb') as w_tok:\n",
        "  word_tokenizer = pickle.load(w_tok)\n",
        "\n",
        "with open('/gdrive/MyDrive/DSRP/Data/type_tokenizer', 'rb') as t_tok:\n",
        "  type_tokenizer = pickle.load(t_tok)\n",
        "\n",
        "comments_train_data = data_dict['comments_t']\n",
        "comments_val_data = data_dict['comments_v']\n",
        "comments_test_data = data_dict['comments_te']\n",
        "type_train_data = data_dict['type_t']\n",
        "type_val_data = data_dict['type_v']\n",
        "type_test_data = data_dict['type_te']\n",
        "\n",
        "comments_data = comments_train_data + comments_val_data + comments_test_data\n",
        "type_data = type_train_data + type_val_data + type_test_data"
      ],
      "execution_count": null,
      "outputs": []
    },
    {
      "cell_type": "code",
      "metadata": {
        "id": "MDEZw-01RgN5"
      },
      "source": [
        "from tensorflow.python.keras.preprocessing.sequence import pad_sequences\n",
        "from tensorflow.python.keras.preprocessing.text import Tokenizer\n",
        "import pandas as pd\n",
        "\n",
        "word_index = word_tokenizer.word_index\n",
        "type_index = type_tokenizer.word_index\n",
        "\n",
        "num_words = len(word_index)\n",
        "num_types = len(type_index)\n",
        "\n",
        "max_seq_len = max([len(q) for q in word_tokenizer.texts_to_sequences(comments_data)])\n",
        "comments_train_seq = pad_sequences(word_tokenizer.texts_to_sequences(comments_train_data), maxlen=max_seq_len)\n",
        "comments_val_seq = pad_sequences(word_tokenizer.texts_to_sequences(comments_val_data), maxlen=max_seq_len)\n",
        "\n",
        "type_train_ind = type_tokenizer.texts_to_sequences(type_train_data)\n",
        "type_val_ind = type_tokenizer.texts_to_sequences(type_val_data)"
      ],
      "execution_count": null,
      "outputs": []
    },
    {
      "cell_type": "code",
      "metadata": {
        "id": "YeRpfTuLINAi",
        "colab": {
          "base_uri": "https://localhost:8080/"
        },
        "outputId": "b04718e3-8353-4c0b-ab5a-5151a64c271b"
      },
      "source": [
        "print(comments_val_data[0])\n",
        "print(comments_val_seq[0])"
      ],
      "execution_count": null,
      "outputs": [
        {
          "output_type": "stream",
          "name": "stdout",
          "text": [
            "por eso no progresamos de todo nos quejamos propongan soluciones\n",
            "[    0     0     0     0     0     0     0     0     0     0     0     0\n",
            "     0     0     0     0     0     0     0     0     0     0     0     0\n",
            "     0     0     0     0     0     0     0     0     0     0     0     0\n",
            "     0     0     0     0     0     0     0     0     0     0     0     0\n",
            "     0     0     0     0     0     0     0     0     0     0     0     0\n",
            "     0     0     0     0     0     0     0     0     0     0     0     0\n",
            "     0     0     0     0     0     0     0     0     0     0     0     0\n",
            "     0     0     0     0     0     0     0     0     0     0     0     0\n",
            "     0     0     0     0     0     0     0     0     0     0     0     0\n",
            "     0     0     0     0     0     0     0     0    17   156     9 15274\n",
            "     1    60    37 15275  7727  1198]\n"
          ]
        }
      ]
    },
    {
      "cell_type": "code",
      "metadata": {
        "id": "gdJzMvZveXVd"
      },
      "source": [
        "from tensorflow.python.keras.utils.data_utils import Sequence\n",
        "import numpy as np\n",
        "\n",
        "# Data Generator\n",
        "class DataGenerator(Sequence):\n",
        "  def __init__(self, seq_c, types, batch_size, max_seq_len, shuffle):\n",
        "    self.seq_c = seq_c\n",
        "    self.types = types\n",
        "    self.batch_size = batch_size\n",
        "    self.max_seq_len = max_seq_len\n",
        "    self.shuffle = shuffle\n",
        "    self.on_epoch_end()\n",
        "  \n",
        "  def __len__(self):\n",
        "    return int(np.floor(len(self.seq_c) / self.batch_size))\n",
        "  \n",
        "  def __getitem__(self, index):\n",
        "    indexes = self.indexes[index*self.batch_size:(index + 1)*self.batch_size]\n",
        "    seq_c_temp = [self.seq_c[k] for k in indexes]\n",
        "    types_temp = [self.types[k] for k in indexes]\n",
        "    x, y = self.datageneration(seq_c_temp, types_temp)\n",
        "    return x, y\n",
        "  \n",
        "  def on_epoch_end(self):\n",
        "    self.indexes = np.arange(len(self.seq_c))\n",
        "    if self.shuffle == True:\n",
        "      np.random.shuffle(self.indexes)\n",
        "\n",
        "  def datageneration(self, seq_c_temp, types_temp):\n",
        "    xq = np.empty((self.batch_size, self.max_seq_len))\n",
        "    yt = np.empty((self.batch_size, 1))\n",
        "    for i, seq in enumerate(seq_c_temp):\n",
        "      xq[i, ] = seq\n",
        "    for i, type_ in enumerate(types_temp):\n",
        "      yt[i, ] = type_\n",
        "    x = [xq]\n",
        "    y = {'type_output':yt}\n",
        "    return x, y\n",
        "  \n",
        "batch_size = 64\n",
        "params = {'batch_size': batch_size, 'max_seq_len': max_seq_len, 'shuffle': True}\n",
        "train_generator = DataGenerator(comments_train_seq, type_train_ind, **params)\n",
        "val_generator = DataGenerator(comments_val_seq, type_val_ind, **params)"
      ],
      "execution_count": null,
      "outputs": []
    },
    {
      "cell_type": "markdown",
      "metadata": {
        "id": "xfMSPh7suTNJ"
      },
      "source": [
        "## 1. Cálculo de los embedding"
      ]
    },
    {
      "cell_type": "code",
      "metadata": {
        "id": "LISO4YfBuehQ"
      },
      "source": [
        "from gensim.models import Word2Vec\n",
        "import multiprocessing\n",
        "\n",
        "# Preparación del corpus para el cálculo del embedding mediante Word2Vec\n",
        "comments_corpus = []\n",
        "for comm in comments_data:\n",
        "  comments_corpus.append(comm.lower().split())\n",
        "\n",
        "word_emb_dim = 320\n",
        "emb_iter = 30\n",
        "\n",
        "# Embedding computation with Word2Vec\n",
        "w2v = Word2Vec(comments_corpus, size=word_emb_dim, window=5, min_count=1, negative=15, iter=emb_iter, workers=multiprocessing.cpu_count())\n",
        "w_embedding = w2v.wv.vectors\n",
        "word_emb_mat = np.zeros((num_words + 1, word_emb_dim))\n",
        "for word, i in word_index.items():\n",
        "  word_emb_vec = w2v.wv[word]\n",
        "  if word_emb_vec is not None:\n",
        "    word_emb_mat[i] = word_emb_vec\n",
        "word_emb_mat[0] = w_embedding.mean(0)"
      ],
      "execution_count": null,
      "outputs": []
    },
    {
      "cell_type": "markdown",
      "metadata": {
        "id": "TTC5d1bCz5GK"
      },
      "source": [
        "## 2. Creación del modelo"
      ]
    },
    {
      "cell_type": "code",
      "metadata": {
        "id": "Wnw24gtt0nx7"
      },
      "source": [
        "from tensorflow.python.keras import backend as K\n",
        "import tensorflow as tf\n",
        "from tensorflow.python.keras.layers.embeddings import Embedding\n",
        "from tensorflow.python.keras.layers import Input, Dropout, Bidirectional, Dense, AdditiveAttention, LSTM, CuDNNLSTM\n",
        "#from tensorflow.compat.v1.keras.layers import CuDNNLSTM\n",
        "from tensorflow.python.keras.models import Model\n",
        "\n",
        "#K.set_learning_phase(1)\n",
        "\n",
        "def s2s_model(num_words, num_types, word_emb_mat, max_seq_len, latent_dim, do):\n",
        "  num_words = num_words + 1\n",
        "  num_types = num_types + 1\n",
        "\n",
        "  word_emb_dim = word_emb_mat.shape[1]\n",
        "\n",
        "  #---------\n",
        "  # ENCODER\n",
        "  #---------\n",
        "  # Input layer\n",
        "  enc_inp_w = Input(shape=(None,)) # (bs, t, 1)\n",
        "  # Embedding layer\n",
        "  w_emb_layer = Embedding(input_dim=num_words, output_dim=word_emb_dim, weights=[word_emb_mat], trainable=True, name='word_embedding')\n",
        "  enc_emb_w = w_emb_layer(enc_inp_w) # (bs, t, we_dim)\n",
        "  # Bidirectional LSTM layer\n",
        "  do_enc_emb_layer = Dropout(rate=do)\n",
        "  forward_LSTM_encoder = CuDNNLSTM(latent_dim, return_state=True, return_sequences=True, name='forward_LSTM')\n",
        "  backward_LSTM_encoder = CuDNNLSTM(latent_dim, return_state=True, return_sequences=True, go_backwards=True, name='backward_LSTM')\n",
        "  BiLSTM_encoder = Bidirectional(forward_LSTM_encoder, backward_layer=backward_LSTM_encoder, name='BiLSTM')\n",
        "  do_enc_out_layer = Dropout(rate=do)\n",
        "  do_enc_emb_w = do_enc_emb_layer(enc_emb_w, training=True) # (bs, t, we_dim)\n",
        "  enc_out, forward_h, forward_c, backward_h, backward_c = BiLSTM_encoder(do_enc_emb_w) # (bs, t, 2*ld), (bs, 1, ld)...\n",
        "  do_enc_out = do_enc_out_layer(enc_out, training=True) # (bs, t, 2*ld)\n",
        "  # Dense layer for states transfering\n",
        "  dense_s0 = Dense(latent_dim, activation='tanh', name='dense_s0_init')\n",
        "  dense_c0 = Dense(latent_dim, activation='tanh', name='dense_c0_init')\n",
        "  dec_s_init = dense_s0(backward_h) # (bs, 1, ld)\n",
        "  dec_c_init = dense_c0(backward_c) # (bs, 1, ld)\n",
        "  dec_states_init = [dec_s_init, dec_c_init]\n",
        "  #-----------\n",
        "  # ATTENTION\n",
        "  #-----------\n",
        "  # Attention layer for type decoder\n",
        "  dense_query_att_t = Dense(2*latent_dim, activation='linear', use_bias=False, name='dense_query_att_t')\n",
        "  dense_key_att_t = Dense(2*latent_dim, activation='linear', use_bias=False, name='dense_key_att_t')\n",
        "  attention_t = AdditiveAttention(name='Attention_t')\n",
        "  query_att_t = dense_query_att_t(dec_s_init) # (bs, 1, 2*ld)\n",
        "  key_att_t = dense_key_att_t(do_enc_out) # (bs, t, 2*ld)\n",
        "  context_t = attention_t([query_att_t, do_enc_out, key_att_t]) # (bs, 1, 2*ld)\n",
        "  #----------------\n",
        "  # TYPE DECODER\n",
        "  #----------------\n",
        "  # LSTM layer\n",
        "  do_dec_t_con_layer = Dropout(rate=do)\n",
        "  LSTM_type_decoder = CuDNNLSTM(latent_dim, name='LSTM_type')\n",
        "  do_dec_t_out_layer = Dropout(rate=do)\n",
        "  do_dec_t_con = do_dec_t_con_layer(context_t, training=True) # (bs, t, 2*ld)\n",
        "  dec_t_out = LSTM_type_decoder(do_dec_t_con, initial_state=dec_states_init) # (bs, t, ld)\n",
        "  do_dec_t_out = do_dec_t_out_layer(dec_t_out, training=True) # (bs, t, ld)\n",
        "  # Dense layer with softmax activation\n",
        "  type_dense_out_layer = Dense(num_types, activation='softmax', name='type_output')\n",
        "  type_out = type_dense_out_layer(do_dec_t_out)\n",
        "  \n",
        "  model = Model(inputs=[enc_inp_w], outputs=[type_out])\n",
        "\n",
        "  return model"
      ],
      "execution_count": null,
      "outputs": []
    },
    {
      "cell_type": "code",
      "metadata": {
        "id": "-oFBS4cm_CMR",
        "colab": {
          "base_uri": "https://localhost:8080/"
        },
        "outputId": "a5d02861-e268-4ea3-e830-32a810caa4c6"
      },
      "source": [
        "model = s2s_model(num_words, num_types, word_emb_mat, max_seq_len, 128, 0.5)\n",
        "model.summary()"
      ],
      "execution_count": null,
      "outputs": [
        {
          "output_type": "stream",
          "name": "stdout",
          "text": [
            "Model: \"model\"\n",
            "__________________________________________________________________________________________________\n",
            "Layer (type)                    Output Shape         Param #     Connected to                     \n",
            "==================================================================================================\n",
            "input_1 (InputLayer)            [(None, None)]       0                                            \n",
            "__________________________________________________________________________________________________\n",
            "word_embedding (Embedding)      (None, None, 320)    5280000     input_1[0][0]                    \n",
            "__________________________________________________________________________________________________\n",
            "dropout (Dropout)               (None, None, 320)    0           word_embedding[0][0]             \n",
            "__________________________________________________________________________________________________\n",
            "BiLSTM (Bidirectional)          [(None, None, 256),  460800      dropout[0][0]                    \n",
            "__________________________________________________________________________________________________\n",
            "dense_s0_init (Dense)           (None, 128)          16512       BiLSTM[0][3]                     \n",
            "__________________________________________________________________________________________________\n",
            "dropout_1 (Dropout)             (None, None, 256)    0           BiLSTM[0][0]                     \n",
            "__________________________________________________________________________________________________\n",
            "dense_query_att_t (Dense)       (None, 256)          32768       dense_s0_init[0][0]              \n",
            "__________________________________________________________________________________________________\n",
            "dense_key_att_t (Dense)         (None, None, 256)    65536       dropout_1[0][0]                  \n",
            "__________________________________________________________________________________________________\n",
            "Attention_t (AdditiveAttention) (None, None, 256)    256         dense_query_att_t[0][0]          \n",
            "                                                                 dropout_1[0][0]                  \n",
            "                                                                 dense_key_att_t[0][0]            \n",
            "__________________________________________________________________________________________________\n",
            "dropout_2 (Dropout)             (None, None, 256)    0           Attention_t[0][0]                \n",
            "__________________________________________________________________________________________________\n",
            "dense_c0_init (Dense)           (None, 128)          16512       BiLSTM[0][4]                     \n",
            "__________________________________________________________________________________________________\n",
            "LSTM_type (CuDNNLSTM)           (None, 128)          197632      dropout_2[0][0]                  \n",
            "                                                                 dense_s0_init[0][0]              \n",
            "                                                                 dense_c0_init[0][0]              \n",
            "__________________________________________________________________________________________________\n",
            "dropout_3 (Dropout)             (None, 128)          0           LSTM_type[0][0]                  \n",
            "__________________________________________________________________________________________________\n",
            "type_output (Dense)             (None, 3)            387         dropout_3[0][0]                  \n",
            "==================================================================================================\n",
            "Total params: 6,070,403\n",
            "Trainable params: 6,070,403\n",
            "Non-trainable params: 0\n",
            "__________________________________________________________________________________________________\n"
          ]
        }
      ]
    },
    {
      "cell_type": "markdown",
      "metadata": {
        "id": "QxVLwKSuF6K7"
      },
      "source": [
        "## 3. Entrenamiento"
      ]
    },
    {
      "cell_type": "code",
      "metadata": {
        "id": "S8gdnmgyGAH3",
        "colab": {
          "base_uri": "https://localhost:8080/"
        },
        "outputId": "fdf6c5e9-e04c-4594-b5d2-34a0ba1c6210"
      },
      "source": [
        "from tensorflow.python.keras.optimizers import Optimizer\n",
        "\n",
        "epochs = 100\n",
        "losses = {\"type_output\": \"sparse_categorical_crossentropy\"}\n",
        "lossWeights = {\"type_output\": 0.25}\n",
        "# classWeights = {\"type_output\": {0: weight_t0, 1: weight_t1, 2:weight_t2}, \"state_output\": {0: weight_st0, 1: weight_st1}}\n",
        "adam_opt = tf.keras.optimizers.Adam(clipnorm=5)\n",
        "# model.compile(loss=losses, loss_weights=lossWeights, optimizer='adam', metrics=['sparse_categorical_accuracy'])\n",
        "model.compile(loss=losses, optimizer='adam', metrics=['sparse_categorical_accuracy'])\n",
        "history = model.fit(x=train_generator, epochs=epochs, verbose=1, validation_data=val_generator)"
      ],
      "execution_count": null,
      "outputs": [
        {
          "output_type": "stream",
          "name": "stdout",
          "text": [
            "Epoch 1/100\n",
            "282/282 [==============================] - 78s 246ms/step - loss: 0.2541 - sparse_categorical_accuracy: 0.8969 - val_loss: 0.1652 - val_sparse_categorical_accuracy: 0.9312\n",
            "Epoch 2/100\n",
            "282/282 [==============================] - 69s 244ms/step - loss: 0.1866 - sparse_categorical_accuracy: 0.9233 - val_loss: 0.1672 - val_sparse_categorical_accuracy: 0.9365\n",
            "Epoch 3/100\n",
            "282/282 [==============================] - 69s 245ms/step - loss: 0.1549 - sparse_categorical_accuracy: 0.9379 - val_loss: 0.1449 - val_sparse_categorical_accuracy: 0.9427\n",
            "Epoch 4/100\n",
            "282/282 [==============================] - 69s 246ms/step - loss: 0.1230 - sparse_categorical_accuracy: 0.9514 - val_loss: 0.1664 - val_sparse_categorical_accuracy: 0.9396\n",
            "Epoch 5/100\n",
            "282/282 [==============================] - 69s 245ms/step - loss: 0.0978 - sparse_categorical_accuracy: 0.9613 - val_loss: 0.1740 - val_sparse_categorical_accuracy: 0.9375\n",
            "Epoch 6/100\n",
            "282/282 [==============================] - 69s 244ms/step - loss: 0.0729 - sparse_categorical_accuracy: 0.9716 - val_loss: 0.1484 - val_sparse_categorical_accuracy: 0.9427\n",
            "Epoch 7/100\n",
            "282/282 [==============================] - 69s 244ms/step - loss: 0.0562 - sparse_categorical_accuracy: 0.9770 - val_loss: 0.2351 - val_sparse_categorical_accuracy: 0.9240\n",
            "Epoch 8/100\n",
            "282/282 [==============================] - 69s 245ms/step - loss: 0.0520 - sparse_categorical_accuracy: 0.9801 - val_loss: 0.2200 - val_sparse_categorical_accuracy: 0.9302\n",
            "Epoch 9/100\n",
            "282/282 [==============================] - 69s 244ms/step - loss: 0.0433 - sparse_categorical_accuracy: 0.9834 - val_loss: 0.2314 - val_sparse_categorical_accuracy: 0.9187\n",
            "Epoch 10/100\n",
            "282/282 [==============================] - 69s 244ms/step - loss: 0.0372 - sparse_categorical_accuracy: 0.9861 - val_loss: 0.2804 - val_sparse_categorical_accuracy: 0.9260\n",
            "Epoch 11/100\n",
            "282/282 [==============================] - 69s 244ms/step - loss: 0.0364 - sparse_categorical_accuracy: 0.9866 - val_loss: 0.2423 - val_sparse_categorical_accuracy: 0.9323\n",
            "Epoch 12/100\n",
            "282/282 [==============================] - 69s 245ms/step - loss: 0.0342 - sparse_categorical_accuracy: 0.9890 - val_loss: 0.2682 - val_sparse_categorical_accuracy: 0.9198\n",
            "Epoch 13/100\n",
            "282/282 [==============================] - 69s 244ms/step - loss: 0.0273 - sparse_categorical_accuracy: 0.9896 - val_loss: 0.3045 - val_sparse_categorical_accuracy: 0.9229\n",
            "Epoch 14/100\n",
            "282/282 [==============================] - 69s 244ms/step - loss: 0.0238 - sparse_categorical_accuracy: 0.9911 - val_loss: 0.3420 - val_sparse_categorical_accuracy: 0.9312\n",
            "Epoch 15/100\n",
            "282/282 [==============================] - 69s 244ms/step - loss: 0.0250 - sparse_categorical_accuracy: 0.9911 - val_loss: 0.3215 - val_sparse_categorical_accuracy: 0.9250\n",
            "Epoch 16/100\n",
            "282/282 [==============================] - 69s 245ms/step - loss: 0.0230 - sparse_categorical_accuracy: 0.9912 - val_loss: 0.2807 - val_sparse_categorical_accuracy: 0.9344\n",
            "Epoch 17/100\n",
            "282/282 [==============================] - 69s 245ms/step - loss: 0.0204 - sparse_categorical_accuracy: 0.9923 - val_loss: 0.3174 - val_sparse_categorical_accuracy: 0.9292\n",
            "Epoch 18/100\n",
            "282/282 [==============================] - 69s 244ms/step - loss: 0.0209 - sparse_categorical_accuracy: 0.9925 - val_loss: 0.3094 - val_sparse_categorical_accuracy: 0.9333\n",
            "Epoch 19/100\n",
            "282/282 [==============================] - 69s 244ms/step - loss: 0.0165 - sparse_categorical_accuracy: 0.9936 - val_loss: 0.3659 - val_sparse_categorical_accuracy: 0.9250\n",
            "Epoch 20/100\n",
            "282/282 [==============================] - 69s 245ms/step - loss: 0.0182 - sparse_categorical_accuracy: 0.9931 - val_loss: 0.3027 - val_sparse_categorical_accuracy: 0.9260\n",
            "Epoch 21/100\n",
            "282/282 [==============================] - 69s 245ms/step - loss: 0.0158 - sparse_categorical_accuracy: 0.9938 - val_loss: 0.3561 - val_sparse_categorical_accuracy: 0.9198\n",
            "Epoch 22/100\n",
            "282/282 [==============================] - 69s 245ms/step - loss: 0.0117 - sparse_categorical_accuracy: 0.9951 - val_loss: 0.4406 - val_sparse_categorical_accuracy: 0.9146\n",
            "Epoch 23/100\n",
            "282/282 [==============================] - 69s 245ms/step - loss: 0.0151 - sparse_categorical_accuracy: 0.9947 - val_loss: 0.3825 - val_sparse_categorical_accuracy: 0.9281\n",
            "Epoch 24/100\n",
            "282/282 [==============================] - 69s 246ms/step - loss: 0.0135 - sparse_categorical_accuracy: 0.9955 - val_loss: 0.3606 - val_sparse_categorical_accuracy: 0.9219\n",
            "Epoch 25/100\n",
            "282/282 [==============================] - 69s 245ms/step - loss: 0.0118 - sparse_categorical_accuracy: 0.9958 - val_loss: 0.3551 - val_sparse_categorical_accuracy: 0.9333\n",
            "Epoch 26/100\n",
            "282/282 [==============================] - 69s 245ms/step - loss: 0.0120 - sparse_categorical_accuracy: 0.9958 - val_loss: 0.3926 - val_sparse_categorical_accuracy: 0.9302\n",
            "Epoch 27/100\n",
            "282/282 [==============================] - 69s 245ms/step - loss: 0.0088 - sparse_categorical_accuracy: 0.9969 - val_loss: 0.4787 - val_sparse_categorical_accuracy: 0.9240\n",
            "Epoch 28/100\n",
            "282/282 [==============================] - 69s 245ms/step - loss: 0.0116 - sparse_categorical_accuracy: 0.9961 - val_loss: 0.3628 - val_sparse_categorical_accuracy: 0.9323\n",
            "Epoch 29/100\n",
            "282/282 [==============================] - 69s 244ms/step - loss: 0.0079 - sparse_categorical_accuracy: 0.9974 - val_loss: 0.4366 - val_sparse_categorical_accuracy: 0.9229\n",
            "Epoch 30/100\n",
            "282/282 [==============================] - 69s 245ms/step - loss: 0.0081 - sparse_categorical_accuracy: 0.9966 - val_loss: 0.5336 - val_sparse_categorical_accuracy: 0.9240\n",
            "Epoch 31/100\n",
            "282/282 [==============================] - 69s 245ms/step - loss: 0.0102 - sparse_categorical_accuracy: 0.9969 - val_loss: 0.3926 - val_sparse_categorical_accuracy: 0.9302\n",
            "Epoch 32/100\n",
            "282/282 [==============================] - 69s 246ms/step - loss: 0.0085 - sparse_categorical_accuracy: 0.9969 - val_loss: 0.3600 - val_sparse_categorical_accuracy: 0.9312\n",
            "Epoch 33/100\n",
            "282/282 [==============================] - 69s 245ms/step - loss: 0.0081 - sparse_categorical_accuracy: 0.9970 - val_loss: 0.3579 - val_sparse_categorical_accuracy: 0.9323\n",
            "Epoch 34/100\n",
            "282/282 [==============================] - 69s 244ms/step - loss: 0.0073 - sparse_categorical_accuracy: 0.9972 - val_loss: 0.4468 - val_sparse_categorical_accuracy: 0.9229\n",
            "Epoch 35/100\n",
            "282/282 [==============================] - 69s 244ms/step - loss: 0.0081 - sparse_categorical_accuracy: 0.9973 - val_loss: 0.4449 - val_sparse_categorical_accuracy: 0.9333\n",
            "Epoch 36/100\n",
            "282/282 [==============================] - 69s 245ms/step - loss: 0.0071 - sparse_categorical_accuracy: 0.9972 - val_loss: 0.4746 - val_sparse_categorical_accuracy: 0.9229\n",
            "Epoch 37/100\n",
            "282/282 [==============================] - 69s 244ms/step - loss: 0.0063 - sparse_categorical_accuracy: 0.9982 - val_loss: 0.4583 - val_sparse_categorical_accuracy: 0.9344\n",
            "Epoch 38/100\n",
            "282/282 [==============================] - 69s 244ms/step - loss: 0.0064 - sparse_categorical_accuracy: 0.9976 - val_loss: 0.4367 - val_sparse_categorical_accuracy: 0.9198\n",
            "Epoch 39/100\n",
            "282/282 [==============================] - 69s 244ms/step - loss: 0.0071 - sparse_categorical_accuracy: 0.9972 - val_loss: 0.4653 - val_sparse_categorical_accuracy: 0.9271\n",
            "Epoch 40/100\n",
            "282/282 [==============================] - 69s 246ms/step - loss: 0.0066 - sparse_categorical_accuracy: 0.9980 - val_loss: 0.3997 - val_sparse_categorical_accuracy: 0.9292\n",
            "Epoch 41/100\n",
            "282/282 [==============================] - 69s 245ms/step - loss: 0.0080 - sparse_categorical_accuracy: 0.9976 - val_loss: 0.4145 - val_sparse_categorical_accuracy: 0.9302\n",
            "Epoch 42/100\n",
            "282/282 [==============================] - 69s 244ms/step - loss: 0.0068 - sparse_categorical_accuracy: 0.9976 - val_loss: 0.4357 - val_sparse_categorical_accuracy: 0.9281\n",
            "Epoch 43/100\n",
            "282/282 [==============================] - 69s 244ms/step - loss: 0.0064 - sparse_categorical_accuracy: 0.9981 - val_loss: 0.4365 - val_sparse_categorical_accuracy: 0.9271\n",
            "Epoch 44/100\n",
            "282/282 [==============================] - 69s 245ms/step - loss: 0.0057 - sparse_categorical_accuracy: 0.9983 - val_loss: 0.4558 - val_sparse_categorical_accuracy: 0.9229\n",
            "Epoch 45/100\n",
            "282/282 [==============================] - 69s 244ms/step - loss: 0.0054 - sparse_categorical_accuracy: 0.9985 - val_loss: 0.3851 - val_sparse_categorical_accuracy: 0.9271\n",
            "Epoch 46/100\n",
            "282/282 [==============================] - 69s 244ms/step - loss: 0.0055 - sparse_categorical_accuracy: 0.9981 - val_loss: 0.5472 - val_sparse_categorical_accuracy: 0.9271\n",
            "Epoch 47/100\n",
            "282/282 [==============================] - 69s 245ms/step - loss: 0.0043 - sparse_categorical_accuracy: 0.9982 - val_loss: 0.4729 - val_sparse_categorical_accuracy: 0.9292\n",
            "Epoch 48/100\n",
            "282/282 [==============================] - 69s 245ms/step - loss: 0.0034 - sparse_categorical_accuracy: 0.9988 - val_loss: 0.4675 - val_sparse_categorical_accuracy: 0.9375\n",
            "Epoch 49/100\n",
            "282/282 [==============================] - 69s 244ms/step - loss: 0.0051 - sparse_categorical_accuracy: 0.9983 - val_loss: 0.4648 - val_sparse_categorical_accuracy: 0.9250\n",
            "Epoch 50/100\n",
            "282/282 [==============================] - 69s 243ms/step - loss: 0.0039 - sparse_categorical_accuracy: 0.9988 - val_loss: 0.5369 - val_sparse_categorical_accuracy: 0.9312\n",
            "Epoch 51/100\n",
            "282/282 [==============================] - 69s 244ms/step - loss: 0.0066 - sparse_categorical_accuracy: 0.9973 - val_loss: 0.4855 - val_sparse_categorical_accuracy: 0.9250\n",
            "Epoch 52/100\n",
            "282/282 [==============================] - 69s 245ms/step - loss: 0.0039 - sparse_categorical_accuracy: 0.9988 - val_loss: 0.5266 - val_sparse_categorical_accuracy: 0.9219\n",
            "Epoch 53/100\n",
            "282/282 [==============================] - 69s 243ms/step - loss: 0.0041 - sparse_categorical_accuracy: 0.9988 - val_loss: 0.5573 - val_sparse_categorical_accuracy: 0.9229\n",
            "Epoch 54/100\n",
            "282/282 [==============================] - 69s 244ms/step - loss: 0.0037 - sparse_categorical_accuracy: 0.9987 - val_loss: 0.4156 - val_sparse_categorical_accuracy: 0.9271\n",
            "Epoch 55/100\n",
            "282/282 [==============================] - 69s 244ms/step - loss: 0.0063 - sparse_categorical_accuracy: 0.9985 - val_loss: 0.4789 - val_sparse_categorical_accuracy: 0.9229\n",
            "Epoch 56/100\n",
            "282/282 [==============================] - 69s 244ms/step - loss: 0.0056 - sparse_categorical_accuracy: 0.9979 - val_loss: 0.4044 - val_sparse_categorical_accuracy: 0.9333\n",
            "Epoch 57/100\n",
            "282/282 [==============================] - 69s 243ms/step - loss: 0.0049 - sparse_categorical_accuracy: 0.9980 - val_loss: 0.4720 - val_sparse_categorical_accuracy: 0.9240\n",
            "Epoch 58/100\n",
            "282/282 [==============================] - 69s 243ms/step - loss: 0.0050 - sparse_categorical_accuracy: 0.9983 - val_loss: 0.5102 - val_sparse_categorical_accuracy: 0.9333\n",
            "Epoch 59/100\n",
            "282/282 [==============================] - 69s 245ms/step - loss: 0.0043 - sparse_categorical_accuracy: 0.9986 - val_loss: 0.4496 - val_sparse_categorical_accuracy: 0.9240\n",
            "Epoch 60/100\n",
            "282/282 [==============================] - 69s 245ms/step - loss: 0.0051 - sparse_categorical_accuracy: 0.9982 - val_loss: 0.4296 - val_sparse_categorical_accuracy: 0.9333\n",
            "Epoch 61/100\n",
            "282/282 [==============================] - 69s 243ms/step - loss: 0.0032 - sparse_categorical_accuracy: 0.9992 - val_loss: 0.4394 - val_sparse_categorical_accuracy: 0.9271\n",
            "Epoch 62/100\n",
            "282/282 [==============================] - 69s 243ms/step - loss: 0.0031 - sparse_categorical_accuracy: 0.9991 - val_loss: 0.4550 - val_sparse_categorical_accuracy: 0.9312\n",
            "Epoch 63/100\n",
            "282/282 [==============================] - 69s 244ms/step - loss: 0.0038 - sparse_categorical_accuracy: 0.9984 - val_loss: 0.5475 - val_sparse_categorical_accuracy: 0.9260\n",
            "Epoch 64/100\n",
            "282/282 [==============================] - 69s 244ms/step - loss: 0.0029 - sparse_categorical_accuracy: 0.9992 - val_loss: 0.5492 - val_sparse_categorical_accuracy: 0.9302\n",
            "Epoch 65/100\n",
            "282/282 [==============================] - 69s 243ms/step - loss: 0.0032 - sparse_categorical_accuracy: 0.9988 - val_loss: 0.5995 - val_sparse_categorical_accuracy: 0.9187\n",
            "Epoch 66/100\n",
            "282/282 [==============================] - 68s 243ms/step - loss: 0.0023 - sparse_categorical_accuracy: 0.9992 - val_loss: 0.5850 - val_sparse_categorical_accuracy: 0.9219\n",
            "Epoch 67/100\n",
            "282/282 [==============================] - 68s 243ms/step - loss: 0.0038 - sparse_categorical_accuracy: 0.9989 - val_loss: 0.4654 - val_sparse_categorical_accuracy: 0.9323\n",
            "Epoch 68/100\n",
            "282/282 [==============================] - 69s 244ms/step - loss: 0.0035 - sparse_categorical_accuracy: 0.9991 - val_loss: 0.4809 - val_sparse_categorical_accuracy: 0.9281\n",
            "Epoch 69/100\n",
            "282/282 [==============================] - 69s 244ms/step - loss: 0.0034 - sparse_categorical_accuracy: 0.9987 - val_loss: 0.4591 - val_sparse_categorical_accuracy: 0.9240\n",
            "Epoch 70/100\n",
            "282/282 [==============================] - 69s 245ms/step - loss: 0.0021 - sparse_categorical_accuracy: 0.9988 - val_loss: 0.6491 - val_sparse_categorical_accuracy: 0.9187\n",
            "Epoch 71/100\n",
            "282/282 [==============================] - 69s 244ms/step - loss: 0.0022 - sparse_categorical_accuracy: 0.9990 - val_loss: 0.5603 - val_sparse_categorical_accuracy: 0.9240\n",
            "Epoch 72/100\n",
            "282/282 [==============================] - 69s 244ms/step - loss: 0.0029 - sparse_categorical_accuracy: 0.9993 - val_loss: 0.5433 - val_sparse_categorical_accuracy: 0.9333\n",
            "Epoch 73/100\n",
            "282/282 [==============================] - 69s 244ms/step - loss: 0.0039 - sparse_categorical_accuracy: 0.9986 - val_loss: 0.4404 - val_sparse_categorical_accuracy: 0.9292\n",
            "Epoch 74/100\n",
            "282/282 [==============================] - 68s 243ms/step - loss: 0.0031 - sparse_categorical_accuracy: 0.9988 - val_loss: 0.5060 - val_sparse_categorical_accuracy: 0.9344\n",
            "Epoch 75/100\n",
            "282/282 [==============================] - 68s 243ms/step - loss: 0.0037 - sparse_categorical_accuracy: 0.9992 - val_loss: 0.4628 - val_sparse_categorical_accuracy: 0.9333\n",
            "Epoch 76/100\n",
            "282/282 [==============================] - 69s 244ms/step - loss: 0.0029 - sparse_categorical_accuracy: 0.9989 - val_loss: 0.4657 - val_sparse_categorical_accuracy: 0.9260\n",
            "Epoch 77/100\n",
            "282/282 [==============================] - 68s 243ms/step - loss: 0.0032 - sparse_categorical_accuracy: 0.9991 - val_loss: 0.4326 - val_sparse_categorical_accuracy: 0.9323\n",
            "Epoch 78/100\n",
            "282/282 [==============================] - 68s 242ms/step - loss: 0.0019 - sparse_categorical_accuracy: 0.9993 - val_loss: 0.5277 - val_sparse_categorical_accuracy: 0.9375\n",
            "Epoch 79/100\n",
            "282/282 [==============================] - 68s 242ms/step - loss: 0.0038 - sparse_categorical_accuracy: 0.9988 - val_loss: 0.4849 - val_sparse_categorical_accuracy: 0.9365\n",
            "Epoch 80/100\n",
            "282/282 [==============================] - 69s 243ms/step - loss: 0.0031 - sparse_categorical_accuracy: 0.9995 - val_loss: 0.5027 - val_sparse_categorical_accuracy: 0.9312\n",
            "Epoch 81/100\n",
            "282/282 [==============================] - 68s 243ms/step - loss: 0.0040 - sparse_categorical_accuracy: 0.9986 - val_loss: 0.5010 - val_sparse_categorical_accuracy: 0.9240\n",
            "Epoch 82/100\n",
            "282/282 [==============================] - 68s 243ms/step - loss: 0.0019 - sparse_categorical_accuracy: 0.9993 - val_loss: 0.4942 - val_sparse_categorical_accuracy: 0.9354\n",
            "Epoch 83/100\n",
            "282/282 [==============================] - 69s 243ms/step - loss: 0.0031 - sparse_categorical_accuracy: 0.9988 - val_loss: 0.5196 - val_sparse_categorical_accuracy: 0.9198\n",
            "Epoch 84/100\n",
            "282/282 [==============================] - 69s 243ms/step - loss: 0.0018 - sparse_categorical_accuracy: 0.9994 - val_loss: 0.4974 - val_sparse_categorical_accuracy: 0.9333\n",
            "Epoch 85/100\n",
            "282/282 [==============================] - 68s 243ms/step - loss: 0.0027 - sparse_categorical_accuracy: 0.9992 - val_loss: 0.4762 - val_sparse_categorical_accuracy: 0.9250\n",
            "Epoch 86/100\n",
            "282/282 [==============================] - 68s 243ms/step - loss: 0.0024 - sparse_categorical_accuracy: 0.9992 - val_loss: 0.5253 - val_sparse_categorical_accuracy: 0.9292\n",
            "Epoch 87/100\n",
            "282/282 [==============================] - 68s 242ms/step - loss: 0.0026 - sparse_categorical_accuracy: 0.9991 - val_loss: 0.5561 - val_sparse_categorical_accuracy: 0.9219\n",
            "Epoch 88/100\n",
            "282/282 [==============================] - 69s 244ms/step - loss: 0.0025 - sparse_categorical_accuracy: 0.9992 - val_loss: 0.5083 - val_sparse_categorical_accuracy: 0.9302\n",
            "Epoch 89/100\n",
            "282/282 [==============================] - 68s 242ms/step - loss: 0.0030 - sparse_categorical_accuracy: 0.9990 - val_loss: 0.4939 - val_sparse_categorical_accuracy: 0.9260\n",
            "Epoch 90/100\n",
            "282/282 [==============================] - 69s 243ms/step - loss: 0.0014 - sparse_categorical_accuracy: 0.9996 - val_loss: 0.5440 - val_sparse_categorical_accuracy: 0.9292\n",
            "Epoch 91/100\n",
            "282/282 [==============================] - 69s 243ms/step - loss: 0.0027 - sparse_categorical_accuracy: 0.9991 - val_loss: 0.4700 - val_sparse_categorical_accuracy: 0.9302\n",
            "Epoch 92/100\n",
            "282/282 [==============================] - 69s 244ms/step - loss: 0.0020 - sparse_categorical_accuracy: 0.9992 - val_loss: 0.5033 - val_sparse_categorical_accuracy: 0.9271\n",
            "Epoch 93/100\n",
            "282/282 [==============================] - 69s 243ms/step - loss: 0.0012 - sparse_categorical_accuracy: 0.9994 - val_loss: 0.6104 - val_sparse_categorical_accuracy: 0.9302\n",
            "Epoch 94/100\n",
            "282/282 [==============================] - 69s 243ms/step - loss: 0.0025 - sparse_categorical_accuracy: 0.9992 - val_loss: 0.6025 - val_sparse_categorical_accuracy: 0.9365\n",
            "Epoch 95/100\n",
            "282/282 [==============================] - 68s 243ms/step - loss: 0.0024 - sparse_categorical_accuracy: 0.9993 - val_loss: 0.6037 - val_sparse_categorical_accuracy: 0.9292\n",
            "Epoch 96/100\n",
            "282/282 [==============================] - 69s 243ms/step - loss: 0.0015 - sparse_categorical_accuracy: 0.9994 - val_loss: 0.7164 - val_sparse_categorical_accuracy: 0.9260\n",
            "Epoch 97/100\n",
            "282/282 [==============================] - 69s 243ms/step - loss: 0.0030 - sparse_categorical_accuracy: 0.9989 - val_loss: 0.5945 - val_sparse_categorical_accuracy: 0.9229\n",
            "Epoch 98/100\n",
            "282/282 [==============================] - 68s 243ms/step - loss: 0.0025 - sparse_categorical_accuracy: 0.9993 - val_loss: 0.6331 - val_sparse_categorical_accuracy: 0.9187\n",
            "Epoch 99/100\n",
            "282/282 [==============================] - 68s 243ms/step - loss: 0.0015 - sparse_categorical_accuracy: 0.9994 - val_loss: 0.5805 - val_sparse_categorical_accuracy: 0.9302\n",
            "Epoch 100/100\n",
            "282/282 [==============================] - 68s 243ms/step - loss: 0.0036 - sparse_categorical_accuracy: 0.9991 - val_loss: 0.4452 - val_sparse_categorical_accuracy: 0.9187\n"
          ]
        }
      ]
    },
    {
      "cell_type": "code",
      "metadata": {
        "id": "dAE-TRhu5x4q",
        "colab": {
          "base_uri": "https://localhost:8080/",
          "height": 295
        },
        "outputId": "8efd5e83-ff46-4655-f613-b9468c45ebbb"
      },
      "source": [
        "import matplotlib.pyplot as plt\n",
        "\n",
        "def plot_training_accuracy(history):\n",
        "\n",
        "  acc_t = history.history['sparse_categorical_accuracy']\n",
        "  val_acc_t = history.history['val_sparse_categorical_accuracy']\n",
        "\n",
        "  epochs = range(1, len(acc_t) + 1)\n",
        "\n",
        "  plt.plot(epochs, acc_t, 'b', label='Training accuracy')\n",
        "  plt.plot(epochs, val_acc_t, 'r', label='Validation accuracy')\n",
        "  plt.title('Training and validation accuracy_Type')\n",
        "  plt.xlabel('Epochs')\n",
        "  plt.ylabel('Accuracy')\n",
        "  plt.legend()\n",
        "  plt.show()\n",
        "  \n",
        "plot_training_accuracy(history)"
      ],
      "execution_count": null,
      "outputs": [
        {
          "output_type": "display_data",
          "data": {
            "image/png": "[encoded data removed]",
            "text/plain": [
              "<Figure size 432x288 with 1 Axes>"
            ]
          },
          "metadata": {
            "needs_background": "light"
          }
        }
      ]
    },
    {
      "cell_type": "code",
      "metadata": {
        "id": "CjAT1rDv027Q",
        "colab": {
          "base_uri": "https://localhost:8080/",
          "height": 295
        },
        "outputId": "26f80d70-5bf1-4728-dcb5-249f93b73f18"
      },
      "source": [
        "import matplotlib.pyplot as plt\n",
        "\n",
        "def plot_training_loss(history):\n",
        "\n",
        "  loss_t = history.history['loss']\n",
        "  val_loss_t = history.history['val_loss']\n",
        "\n",
        "  epochs = range(1, len(loss_t) + 1)\n",
        "\n",
        "  plt.plot(epochs, loss_t, 'b', label='Training loss')\n",
        "  plt.plot(epochs, val_loss_t, 'r', label='Validation loss')\n",
        "  plt.title('Training and validation loss_Type')\n",
        "  plt.xlabel('Epochs')\n",
        "  plt.ylabel('Loss')\n",
        "  plt.legend()\n",
        "  plt.show()\n",
        "  \n",
        "plot_training_loss(history)"
      ],
      "execution_count": null,
      "outputs": [
        {
          "output_type": "display_data",
          "data": {
            "image/png": "[encoded data removed]",
            "text/plain": [
              "<Figure size 432x288 with 1 Axes>"
            ]
          },
          "metadata": {
            "needs_background": "light"
          }
        }
      ]
    },
    {
      "cell_type": "markdown",
      "metadata": {
        "id": "XtfpkteiHxsZ"
      },
      "source": [
        "## 4. Guardado de los pesos del modelo y los tokenizers"
      ]
    },
    {
      "cell_type": "code",
      "metadata": {
        "id": "ASyP_FpUICI_"
      },
      "source": [
        "model_name = 'vGPU_s2s_model_' + str(batch_size) + 'bs' + '128ld' + str(epochs) + 'epo' + str(word_emb_dim) + 'word_emb' + '_2021-10-10.h5'\n",
        "#msw = model.save_weights(model_name)\n",
        "model.save_weights(model_name)"
      ],
      "execution_count": null,
      "outputs": []
    },
    {
      "cell_type": "code",
      "metadata": {
        "id": "2z94CwcmHb5V"
      },
      "source": [
        "# Save ModelFormat\n",
        "#model_name = 'vCPU_s2s_model_' + str(batch_size) + 'bs' + '128ld' + str(epochs) + 'epo' + str(word_emb_dim) + 'word_emb' + str(slot_emb_dim) + 'slot_emb_2021'\n",
        "#model.save(model_name)"
      ],
      "execution_count": null,
      "outputs": []
    },
    {
      "cell_type": "code",
      "metadata": {
        "id": "S9D_oaje2o0I"
      },
      "source": [
        "with open('/gdrive/My Drive/DSRP/' + model_name, 'wb') as wt: \n",
        "  pickle.dump(msw, wt, protocol=pickle.HIGHEST_PROTOCOL)"
      ],
      "execution_count": null,
      "outputs": []
    },
    {
      "cell_type": "code",
      "metadata": {
        "id": "DiTZPxZwuKGI"
      },
      "source": [
        "'''\n",
        "with open('/gdrive/My Drive/PEPS/word_tokenizer', 'wb') as w_tok:\n",
        "  pickle.dump(word_tokenizer, w_tok, protocol=pickle.HIGHEST_PROTOCOL)\n",
        "\n",
        "with open('/gdrive/My Drive/PEPS/slot_tokenizer', 'wb') as s_tok:\n",
        "  pickle.dump(slot_tokenizer, s_tok, protocol=pickle.HIGHEST_PROTOCOL)\n",
        "\n",
        "with open('/gdrive/My Drive/PEPS/type_tokenizer', 'wb') as t_tok:\n",
        "  pickle.dump(type_tokenizer, t_tok, protocol=pickle.HIGHEST_PROTOCOL)\n",
        "\n",
        "with open('/gdrive/My Drive/PEPS/state_tokenizer', 'wb') as st_tok:\n",
        "  pickle.dump(state_tokenizer, st_tok, protocol=pickle.HIGHEST_PROTOCOL)\n",
        "\n",
        "# drive.flush_and_unmount()\n",
        "# print('All changes made in this colab session should now be visible in Drive.')\n",
        "'''"
      ],
      "execution_count": null,
      "outputs": []
    },
    {
      "cell_type": "markdown",
      "metadata": {
        "id": "kB9hIYUQsJbw"
      },
      "source": [
        "PENDIENTES:\n",
        "\n",
        "1) Prueba de modelos (cambiar los hiperparámetros)\n",
        "* word embeddings: 128, 150, 200, 256 (250),..., 300, ..., 500\n",
        "* slot embeddings: 6,..., 23 \n",
        "* mantener epocas 20, 30, 50\n",
        "* BATCH SIZE 16, 32, 64\n",
        "* laten dim 128, 256, 200,..., 1024\n",
        "* mantener pesos de pérdidas\n",
        "\n",
        "2) Crear la función de pérdida ponderada\n",
        "\n",
        "3) Entrenamiento final->guardamos pesos"
      ]
    },
    {
      "cell_type": "code",
      "metadata": {
        "id": "7icZHsgc9_05"
      },
      "source": [
        "import re\n",
        "\n",
        "fecha = '3 de abril de 2019'\n",
        "\n",
        "año_actual = re.findall(r'\\s\\d{4}', fecha)\n",
        "\n",
        "print(año_actual)\n",
        "\n",
        "fecha_temp1 = '3 de abril del año en curso'\n",
        "fecha_temp2 = '3 de abril del presente año'\n",
        "\n",
        "replace1 = re.compile(r'( año en curso)|( presente año)')\n",
        "text = re.sub(replace1, año_actual[0], fecha_temp2)\n",
        "\n",
        "print(text)"
      ],
      "execution_count": null,
      "outputs": []
    }
  ]
}